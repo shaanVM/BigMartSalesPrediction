{
 "cells": [
  {
   "cell_type": "code",
   "execution_count": 1,
   "id": "5a86b405",
   "metadata": {},
   "outputs": [
    {
     "name": "stdout",
     "output_type": "stream",
     "text": [
      "Collecting pyforest\n",
      "  Downloading pyforest-1.1.0.tar.gz (15 kB)\n",
      "  Preparing metadata (setup.py): started\n",
      "  Preparing metadata (setup.py): finished with status 'done'\n",
      "Building wheels for collected packages: pyforest\n",
      "  Building wheel for pyforest (setup.py): started\n",
      "  Building wheel for pyforest (setup.py): finished with status 'done'\n",
      "  Created wheel for pyforest: filename=pyforest-1.1.0-py2.py3-none-any.whl size=14606 sha256=6541a47ea5d0f0b5d397131889ef18eac7d24ae385455e034a1347311328e806\n",
      "  Stored in directory: c:\\users\\hp\\appdata\\local\\pip\\cache\\wheels\\d5\\1a\\3e\\6193fe1c56168f5df4aef57d8411033ba4611881135d495727\n",
      "Successfully built pyforest\n",
      "Installing collected packages: pyforest\n",
      "Successfully installed pyforest-1.1.0\n",
      "Note: you may need to restart the kernel to use updated packages.\n"
     ]
    }
   ],
   "source": [
    "pip install pyforest"
   ]
  },
  {
   "cell_type": "code",
   "execution_count": 2,
   "id": "416f8ee5",
   "metadata": {},
   "outputs": [
    {
     "data": {
      "text/plain": [
       "['from sklearn.preprocessing import MinMaxScaler',\n",
       " 'from pyspark import SparkContext',\n",
       " 'import fastai',\n",
       " 'import awswrangler as wr',\n",
       " 'import altair as alt',\n",
       " 'import os',\n",
       " 'import spacy',\n",
       " 'import xgboost as xgb',\n",
       " 'from sklearn import svm',\n",
       " 'from sklearn.linear_model import Lasso',\n",
       " 'import seaborn as sns',\n",
       " 'import numpy as np',\n",
       " 'from sklearn.linear_model import LogisticRegression',\n",
       " 'from sklearn.feature_extraction.text import TfidfVectorizer',\n",
       " 'from sklearn.linear_model import LassoCV',\n",
       " 'from sklearn.preprocessing import StandardScaler',\n",
       " 'import sys',\n",
       " 'from dask import dataframe as dd',\n",
       " 'from PIL import Image',\n",
       " 'from sklearn.impute import SimpleImputer',\n",
       " 'from sklearn.ensemble import GradientBoostingClassifier',\n",
       " 'from sklearn.preprocessing import OneHotEncoder',\n",
       " 'import cv2',\n",
       " 'from sklearn.model_selection import GridSearchCV',\n",
       " 'from sklearn.model_selection import RandomizedSearchCV',\n",
       " 'from sklearn.ensemble import RandomForestClassifier',\n",
       " 'import imutils',\n",
       " 'import matplotlib as mpl',\n",
       " 'from sklearn.linear_model import Ridge',\n",
       " 'import tensorflow as tf',\n",
       " 'import tqdm',\n",
       " 'from sklearn import metrics',\n",
       " 'import gensim',\n",
       " 'from sklearn.manifold import TSNE',\n",
       " 'import lightgbm as lgb',\n",
       " 'import pandas as pd',\n",
       " 'from sklearn.linear_model import RidgeCV',\n",
       " 'import skimage',\n",
       " 'from sklearn.linear_model import ElasticNetCV',\n",
       " 'from sklearn.model_selection import train_test_split',\n",
       " 'import torch',\n",
       " 'import pydot',\n",
       " 'from openpyxl import load_workbook',\n",
       " 'import datetime as dt',\n",
       " 'import plotly.graph_objs as go',\n",
       " 'import statsmodels.api as sm',\n",
       " 'import textblob',\n",
       " 'import statistics',\n",
       " 'from sklearn.preprocessing import RobustScaler',\n",
       " 'import plotly as py',\n",
       " 'import plotly.express as px',\n",
       " 'import bokeh',\n",
       " 'from sklearn.cluster import KMeans',\n",
       " 'import keras',\n",
       " 'import sklearn',\n",
       " 'from sklearn.linear_model import LinearRegression',\n",
       " 'import pickle',\n",
       " 'from sklearn.linear_model import ElasticNet',\n",
       " 'from statsmodels.tsa.arima_model import ARIMA',\n",
       " 'from xlrd import open_workbook',\n",
       " 'from scipy import stats',\n",
       " 'from sklearn.model_selection import KFold',\n",
       " 'import matplotlib.pyplot as plt',\n",
       " 'from pathlib import Path',\n",
       " 'from sklearn.model_selection import cross_val_score',\n",
       " 'import nltk',\n",
       " 'from sklearn.ensemble import GradientBoostingRegressor',\n",
       " 'from sklearn.preprocessing import LabelEncoder',\n",
       " 'from sklearn.decomposition import PCA',\n",
       " 'import glob',\n",
       " 'from sklearn.ensemble import RandomForestRegressor',\n",
       " 'from sklearn.feature_extraction.text import CountVectorizer',\n",
       " 'from fbprophet import Prophet',\n",
       " 'import fbprophet',\n",
       " 'import dash',\n",
       " 'from sklearn.preprocessing import PolynomialFeatures',\n",
       " 'from scipy import signal as sg',\n",
       " 'import re',\n",
       " 'from sklearn.model_selection import StratifiedKFold']"
      ]
     },
     "execution_count": 2,
     "metadata": {},
     "output_type": "execute_result"
    }
   ],
   "source": [
    "from pyforest import *\n",
    "lazy_imports()"
   ]
  },
  {
   "cell_type": "code",
   "execution_count": 3,
   "id": "52bb3a20",
   "metadata": {},
   "outputs": [],
   "source": [
    "import warnings\n",
    "warnings.filterwarnings('ignore')"
   ]
  },
  {
   "cell_type": "code",
   "execution_count": 4,
   "id": "c6bc20f1",
   "metadata": {},
   "outputs": [
    {
     "data": {
      "application/javascript": [
       "\n",
       "        if (window._pyforest_update_imports_cell) { window._pyforest_update_imports_cell('import pandas as pd'); }\n",
       "    "
      ],
      "text/plain": [
       "<IPython.core.display.Javascript object>"
      ]
     },
     "metadata": {},
     "output_type": "display_data"
    },
    {
     "data": {
      "application/javascript": [
       "\n",
       "        if (window._pyforest_update_imports_cell) { window._pyforest_update_imports_cell('import pandas as pd'); }\n",
       "    "
      ],
      "text/plain": [
       "<IPython.core.display.Javascript object>"
      ]
     },
     "metadata": {},
     "output_type": "display_data"
    }
   ],
   "source": [
    "train_data=pd.read_csv('bigmart_train.csv')\n",
    "test_data=pd.read_csv('bigmart_test.csv')"
   ]
  },
  {
   "cell_type": "code",
   "execution_count": null,
   "id": "d215bd81",
   "metadata": {},
   "outputs": [],
   "source": []
  }
 ],
 "metadata": {
  "kernelspec": {
   "display_name": "Python 3 (ipykernel)",
   "language": "python",
   "name": "python3"
  },
  "language_info": {
   "codemirror_mode": {
    "name": "ipython",
    "version": 3
   },
   "file_extension": ".py",
   "mimetype": "text/x-python",
   "name": "python",
   "nbconvert_exporter": "python",
   "pygments_lexer": "ipython3",
   "version": "3.9.13"
  }
 },
 "nbformat": 4,
 "nbformat_minor": 5
}
